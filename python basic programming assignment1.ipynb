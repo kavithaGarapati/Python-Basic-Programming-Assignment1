{
 "cells": [
  {
   "cell_type": "code",
   "execution_count": 2,
   "metadata": {},
   "outputs": [
    {
     "name": "stdout",
     "output_type": "stream",
     "text": [
      " Enter your text : Hello Python\n",
      "Hello Python\n"
     ]
    }
   ],
   "source": [
    "##Q1 : Write a Python Program to print \"Hello Python\"?\n",
    "\n",
    "x = input (\" Enter your text : \")\n",
    "print (x)"
   ]
  },
  {
   "cell_type": "code",
   "execution_count": 1,
   "metadata": {},
   "outputs": [
    {
     "name": "stdout",
     "output_type": "stream",
     "text": [
      "Enter First Number : 2\n",
      "Enter Second Number : 2\n",
      "The Addition of a and b is :  4\n",
      "Enter First Number : 8\n",
      "Enter Second Number : 4\n",
      "The division of a and b is :  2.0\n"
     ]
    }
   ],
   "source": [
    "##Q2 : Write a python program to do arithmetical operations addition and division ?\n",
    "\n",
    "a = int (input (\"Enter First Number : \"))\n",
    "b = int (input (\"Enter Second Number : \"))\n",
    "c = a + b\n",
    "print (\"The Addition of a and b is : \" ,  c)\n",
    "\n",
    "\n",
    "a = int (input (\"Enter First Number : \"))\n",
    "b = int (input (\"Enter Second Number : \"))\n",
    "d = a / b\n",
    "\n",
    "if b == 0 :\n",
    "    \n",
    "    print(\"The division of a and b is :  0\")\n",
    "else :\n",
    "\n",
    "    print (\"The division of a and b is : \" , d)\n",
    "\n",
    "    "
   ]
  },
  {
   "cell_type": "code",
   "execution_count": 3,
   "metadata": {},
   "outputs": [
    {
     "name": "stdout",
     "output_type": "stream",
     "text": [
      " Enter the Base of the Triangle : 10\n",
      " Enter the Height of the Triangle : 32\n",
      " The area of the triangle is :  160.0\n"
     ]
    }
   ],
   "source": [
    "##Q3 : Write a python program to find the area of a triangle?\n",
    "\n",
    "a = int (input (\" Enter the Base of the Triangle : \"))\n",
    "b = int (input (\" Enter the Height of the Triangle : \"))\n",
    "c = a * b\n",
    "area = c / 2\n",
    "print (\" The area of the triangle is : \" , area)\n"
   ]
  },
  {
   "cell_type": "code",
   "execution_count": 11,
   "metadata": {},
   "outputs": [
    {
     "name": "stdout",
     "output_type": "stream",
     "text": [
      "Enter the First Number :45\n",
      "Enter the Second Number :100\n",
      "The numbers before swapping are :  45 , 100\n",
      "The numbers after swapping are  :  100 , 45\n"
     ]
    }
   ],
   "source": [
    "##Q4 : Write a python program to swap two variables ?\n",
    "\n",
    "a = input (\"Enter the First Number :\")\n",
    "b = input (\"Enter the Second Number :\")\n",
    "\n",
    "print (\"The numbers before swapping are : \", a ,\",\" , b )\n",
    "print (\"The numbers after swapping are  : \" , b ,\",\", a)\n"
   ]
  },
  {
   "cell_type": "code",
   "execution_count": 3,
   "metadata": {},
   "outputs": [
    {
     "data": {
      "text/plain": [
       "78"
      ]
     },
     "execution_count": 3,
     "metadata": {},
     "output_type": "execute_result"
    }
   ],
   "source": [
    "##Q5 : Write a python program to generate a random number ?\n",
    "\n",
    "import random\n",
    "\n",
    "x = (3,6,8,10,23,78,90,100)\n",
    "\n",
    "random.choice(x)"
   ]
  },
  {
   "cell_type": "code",
   "execution_count": null,
   "metadata": {},
   "outputs": [],
   "source": []
  }
 ],
 "metadata": {
  "kernelspec": {
   "display_name": "Python 3",
   "language": "python",
   "name": "python3"
  },
  "language_info": {
   "codemirror_mode": {
    "name": "ipython",
    "version": 3
   },
   "file_extension": ".py",
   "mimetype": "text/x-python",
   "name": "python",
   "nbconvert_exporter": "python",
   "pygments_lexer": "ipython3",
   "version": "3.8.5"
  }
 },
 "nbformat": 4,
 "nbformat_minor": 4
}
